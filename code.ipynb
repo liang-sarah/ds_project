{
 "cells": [
  {
   "cell_type": "code",
   "execution_count": 2,
   "metadata": {},
   "outputs": [],
   "source": [
    "import pandas as pd\n",
    "\n",
    "recipes = pd.read_csv(\"recipes_w_search_terms.csv\")"
   ]
  },
  {
   "cell_type": "code",
   "execution_count": 12,
   "metadata": {},
   "outputs": [
    {
     "data": {
      "text/html": [
       "<div>\n",
       "<style scoped>\n",
       "    .dataframe tbody tr th:only-of-type {\n",
       "        vertical-align: middle;\n",
       "    }\n",
       "\n",
       "    .dataframe tbody tr th {\n",
       "        vertical-align: top;\n",
       "    }\n",
       "\n",
       "    .dataframe thead th {\n",
       "        text-align: right;\n",
       "    }\n",
       "</style>\n",
       "<table border=\"1\" class=\"dataframe\">\n",
       "  <thead>\n",
       "    <tr style=\"text-align: right;\">\n",
       "      <th></th>\n",
       "      <th>id</th>\n",
       "      <th>name</th>\n",
       "      <th>description</th>\n",
       "      <th>ingredients</th>\n",
       "      <th>ingredients_raw_str</th>\n",
       "      <th>serving_size</th>\n",
       "      <th>servings</th>\n",
       "      <th>steps</th>\n",
       "      <th>tags</th>\n",
       "      <th>search_terms</th>\n",
       "    </tr>\n",
       "  </thead>\n",
       "  <tbody>\n",
       "    <tr>\n",
       "      <th>0</th>\n",
       "      <td>96313</td>\n",
       "      <td>Grilled Garlic Cheese Grits</td>\n",
       "      <td>We love grits, this is another good way to ser...</td>\n",
       "      <td>['water', 'grits', 'salt', 'cheddar cheese', '...</td>\n",
       "      <td>[\"4   cups    water\",\"1   cup   uncooked old f...</td>\n",
       "      <td>1 (155 g)</td>\n",
       "      <td>8</td>\n",
       "      <td>['I a sauce pan, bring water to a boil; slowly...</td>\n",
       "      <td>['time-to-make', 'course', 'main-ingredient', ...</td>\n",
       "      <td>{'diabetic', 'low-calorie', 'vegetarian', 'low...</td>\n",
       "    </tr>\n",
       "    <tr>\n",
       "      <th>1</th>\n",
       "      <td>232037</td>\n",
       "      <td>Simple Shrimp and Andouille Jambalaya</td>\n",
       "      <td>Simple, easy and very tasty for when you are i...</td>\n",
       "      <td>['onion', 'red bell pepper', 'garlic cloves', ...</td>\n",
       "      <td>[\"1   medium    onion, chopped coarse \",\"1   m...</td>\n",
       "      <td>1 (366 g)</td>\n",
       "      <td>4</td>\n",
       "      <td>['In a food processor, pulse the onion, red pe...</td>\n",
       "      <td>['60-minutes-or-less', 'time-to-make', 'course...</td>\n",
       "      <td>{'dinner', 'shrimp'}</td>\n",
       "    </tr>\n",
       "    <tr>\n",
       "      <th>2</th>\n",
       "      <td>41090</td>\n",
       "      <td>black-and-white bean salad</td>\n",
       "      <td>NaN</td>\n",
       "      <td>['white beans', 'canned black beans', 'tomatoe...</td>\n",
       "      <td>[\"1   cup   canned white beans, rinsed and dra...</td>\n",
       "      <td>1 (807 g)</td>\n",
       "      <td>1</td>\n",
       "      <td>['In a large bowl, combine beans, tomato, onio...</td>\n",
       "      <td>['15-minutes-or-less', 'time-to-make', 'course...</td>\n",
       "      <td>{'vegetarian', 'salad', 'side', 'dinner', 'veg...</td>\n",
       "    </tr>\n",
       "    <tr>\n",
       "      <th>3</th>\n",
       "      <td>60656</td>\n",
       "      <td>Crock Pot Italian Zucchini</td>\n",
       "      <td>This is a good recipe for weight watchers. It ...</td>\n",
       "      <td>['zucchini', 'yellow squash', 'diced tomatoes'...</td>\n",
       "      <td>[\"2       zucchini, sliced \",\"2   small    yel...</td>\n",
       "      <td>1 (244 g)</td>\n",
       "      <td>4</td>\n",
       "      <td>['Put all ingredients in the crock pot and coo...</td>\n",
       "      <td>['weeknight', 'time-to-make', 'course', 'main-...</td>\n",
       "      <td>{'side', 'vegetarian', 'italian'}</td>\n",
       "    </tr>\n",
       "    <tr>\n",
       "      <th>4</th>\n",
       "      <td>232047</td>\n",
       "      <td>Beef Stew With Dried Cherries</td>\n",
       "      <td>This is a fabulous stew that came from one of ...</td>\n",
       "      <td>['beef stew meat', 'flour', 'salt', 'allspice'...</td>\n",
       "      <td>[\"3   lbs    beef stew meat\",\"3   tablespoons ...</td>\n",
       "      <td>1 (358 g)</td>\n",
       "      <td>8</td>\n",
       "      <td>['Preheat oven to 350°F.', \"Cut beef into 1 in...</td>\n",
       "      <td>['time-to-make', 'course', 'main-ingredient', ...</td>\n",
       "      <td>{'dinner'}</td>\n",
       "    </tr>\n",
       "    <tr>\n",
       "      <th>...</th>\n",
       "      <td>...</td>\n",
       "      <td>...</td>\n",
       "      <td>...</td>\n",
       "      <td>...</td>\n",
       "      <td>...</td>\n",
       "      <td>...</td>\n",
       "      <td>...</td>\n",
       "      <td>...</td>\n",
       "      <td>...</td>\n",
       "      <td>...</td>\n",
       "    </tr>\n",
       "    <tr>\n",
       "      <th>494958</th>\n",
       "      <td>276465</td>\n",
       "      <td>Blackberry Orange Scones</td>\n",
       "      <td>The orange zest makes for a flavorful, not ove...</td>\n",
       "      <td>['unbleached flour', 'baking soda', 'butter', ...</td>\n",
       "      <td>[\"2 1/2  cups    unbleached flour\",\"2   teaspo...</td>\n",
       "      <td>1 (83 g)</td>\n",
       "      <td>8</td>\n",
       "      <td>['Sift about 2 cups of flour onto a piece of w...</td>\n",
       "      <td>['30-minutes-or-less', 'time-to-make', 'course...</td>\n",
       "      <td>{'breakfast', 'bread'}</td>\n",
       "    </tr>\n",
       "    <tr>\n",
       "      <th>494959</th>\n",
       "      <td>257796</td>\n",
       "      <td>Slow Cooker Garlic Chicken With Rosemary</td>\n",
       "      <td>Delicious and easy!</td>\n",
       "      <td>['roasting chickens', 'lemons', 'rosemary spri...</td>\n",
       "      <td>[\"1 (5   lb)    roasting chickens, rinsed and ...</td>\n",
       "      <td>1 (340 g)</td>\n",
       "      <td>6</td>\n",
       "      <td>['Place rosemary springs, 1 lemon half, celery...</td>\n",
       "      <td>['main-ingredient', 'preparation', 'occasion',...</td>\n",
       "      <td>{'dinner', 'chicken'}</td>\n",
       "    </tr>\n",
       "    <tr>\n",
       "      <th>494960</th>\n",
       "      <td>78003</td>\n",
       "      <td>Pot Roast with Port (Stove Top)</td>\n",
       "      <td>This is a recipe from the Frugal Gourmet cooki...</td>\n",
       "      <td>['boneless beef chuck roast', 'olive oil', 'ta...</td>\n",
       "      <td>[\"2 -3   lbs    boneless beef chuck roast\",\"2 ...</td>\n",
       "      <td>1 (283 g)</td>\n",
       "      <td>4</td>\n",
       "      <td>['In a large pan, heat oil and brown roast on ...</td>\n",
       "      <td>['weeknight', 'time-to-make', 'course', 'prepa...</td>\n",
       "      <td>{'roast', 'dinner', 'low-sodium', 'low-carb'}</td>\n",
       "    </tr>\n",
       "    <tr>\n",
       "      <th>494961</th>\n",
       "      <td>328810</td>\n",
       "      <td>Kapusta ( Cabbage and Kielbasa )</td>\n",
       "      <td>Cabbage and sausage in tomato sauce</td>\n",
       "      <td>['cabbage', 'condensed tomato soup', 'kielbasa...</td>\n",
       "      <td>[\"8   cups    cabbage or 2   heads    cabbage,...</td>\n",
       "      <td>1 (564 g)</td>\n",
       "      <td>6</td>\n",
       "      <td>['Saute bacon in large pan until browned.  Lea...</td>\n",
       "      <td>['time-to-make', 'course', 'preparation', 'mai...</td>\n",
       "      <td>{'dinner'}</td>\n",
       "    </tr>\n",
       "    <tr>\n",
       "      <th>494962</th>\n",
       "      <td>9116</td>\n",
       "      <td>Yellow or Zucchini Squash Pie</td>\n",
       "      <td>This recipe was given to my mom from a lady wh...</td>\n",
       "      <td>['zucchini', 'onion', 'butter', 'oregano', 'ba...</td>\n",
       "      <td>[\"4   cups    zucchini (can mix the squash if ...</td>\n",
       "      <td>1 (160 g)</td>\n",
       "      <td>6</td>\n",
       "      <td>['Melt butter in skillet. Add squash, onions, ...</td>\n",
       "      <td>['60-minutes-or-less', 'time-to-make', 'course...</td>\n",
       "      <td>{'southern', 'pie', 'dinner', 'side'}</td>\n",
       "    </tr>\n",
       "  </tbody>\n",
       "</table>\n",
       "<p>494963 rows × 10 columns</p>\n",
       "</div>"
      ],
      "text/plain": [
       "            id                                      name  \\\n",
       "0        96313               Grilled Garlic Cheese Grits   \n",
       "1       232037     Simple Shrimp and Andouille Jambalaya   \n",
       "2        41090                black-and-white bean salad   \n",
       "3        60656                Crock Pot Italian Zucchini   \n",
       "4       232047             Beef Stew With Dried Cherries   \n",
       "...        ...                                       ...   \n",
       "494958  276465                  Blackberry Orange Scones   \n",
       "494959  257796  Slow Cooker Garlic Chicken With Rosemary   \n",
       "494960   78003           Pot Roast with Port (Stove Top)   \n",
       "494961  328810          Kapusta ( Cabbage and Kielbasa )   \n",
       "494962    9116             Yellow or Zucchini Squash Pie   \n",
       "\n",
       "                                              description  \\\n",
       "0       We love grits, this is another good way to ser...   \n",
       "1       Simple, easy and very tasty for when you are i...   \n",
       "2                                                     NaN   \n",
       "3       This is a good recipe for weight watchers. It ...   \n",
       "4       This is a fabulous stew that came from one of ...   \n",
       "...                                                   ...   \n",
       "494958  The orange zest makes for a flavorful, not ove...   \n",
       "494959                                Delicious and easy!   \n",
       "494960  This is a recipe from the Frugal Gourmet cooki...   \n",
       "494961                Cabbage and sausage in tomato sauce   \n",
       "494962  This recipe was given to my mom from a lady wh...   \n",
       "\n",
       "                                              ingredients  \\\n",
       "0       ['water', 'grits', 'salt', 'cheddar cheese', '...   \n",
       "1       ['onion', 'red bell pepper', 'garlic cloves', ...   \n",
       "2       ['white beans', 'canned black beans', 'tomatoe...   \n",
       "3       ['zucchini', 'yellow squash', 'diced tomatoes'...   \n",
       "4       ['beef stew meat', 'flour', 'salt', 'allspice'...   \n",
       "...                                                   ...   \n",
       "494958  ['unbleached flour', 'baking soda', 'butter', ...   \n",
       "494959  ['roasting chickens', 'lemons', 'rosemary spri...   \n",
       "494960  ['boneless beef chuck roast', 'olive oil', 'ta...   \n",
       "494961  ['cabbage', 'condensed tomato soup', 'kielbasa...   \n",
       "494962  ['zucchini', 'onion', 'butter', 'oregano', 'ba...   \n",
       "\n",
       "                                      ingredients_raw_str serving_size  \\\n",
       "0       [\"4   cups    water\",\"1   cup   uncooked old f...    1 (155 g)   \n",
       "1       [\"1   medium    onion, chopped coarse \",\"1   m...    1 (366 g)   \n",
       "2       [\"1   cup   canned white beans, rinsed and dra...    1 (807 g)   \n",
       "3       [\"2       zucchini, sliced \",\"2   small    yel...    1 (244 g)   \n",
       "4       [\"3   lbs    beef stew meat\",\"3   tablespoons ...    1 (358 g)   \n",
       "...                                                   ...          ...   \n",
       "494958  [\"2 1/2  cups    unbleached flour\",\"2   teaspo...     1 (83 g)   \n",
       "494959  [\"1 (5   lb)    roasting chickens, rinsed and ...    1 (340 g)   \n",
       "494960  [\"2 -3   lbs    boneless beef chuck roast\",\"2 ...    1 (283 g)   \n",
       "494961  [\"8   cups    cabbage or 2   heads    cabbage,...    1 (564 g)   \n",
       "494962  [\"4   cups    zucchini (can mix the squash if ...    1 (160 g)   \n",
       "\n",
       "        servings                                              steps  \\\n",
       "0              8  ['I a sauce pan, bring water to a boil; slowly...   \n",
       "1              4  ['In a food processor, pulse the onion, red pe...   \n",
       "2              1  ['In a large bowl, combine beans, tomato, onio...   \n",
       "3              4  ['Put all ingredients in the crock pot and coo...   \n",
       "4              8  ['Preheat oven to 350°F.', \"Cut beef into 1 in...   \n",
       "...          ...                                                ...   \n",
       "494958         8  ['Sift about 2 cups of flour onto a piece of w...   \n",
       "494959         6  ['Place rosemary springs, 1 lemon half, celery...   \n",
       "494960         4  ['In a large pan, heat oil and brown roast on ...   \n",
       "494961         6  ['Saute bacon in large pan until browned.  Lea...   \n",
       "494962         6  ['Melt butter in skillet. Add squash, onions, ...   \n",
       "\n",
       "                                                     tags  \\\n",
       "0       ['time-to-make', 'course', 'main-ingredient', ...   \n",
       "1       ['60-minutes-or-less', 'time-to-make', 'course...   \n",
       "2       ['15-minutes-or-less', 'time-to-make', 'course...   \n",
       "3       ['weeknight', 'time-to-make', 'course', 'main-...   \n",
       "4       ['time-to-make', 'course', 'main-ingredient', ...   \n",
       "...                                                   ...   \n",
       "494958  ['30-minutes-or-less', 'time-to-make', 'course...   \n",
       "494959  ['main-ingredient', 'preparation', 'occasion',...   \n",
       "494960  ['weeknight', 'time-to-make', 'course', 'prepa...   \n",
       "494961  ['time-to-make', 'course', 'preparation', 'mai...   \n",
       "494962  ['60-minutes-or-less', 'time-to-make', 'course...   \n",
       "\n",
       "                                             search_terms  \n",
       "0       {'diabetic', 'low-calorie', 'vegetarian', 'low...  \n",
       "1                                    {'dinner', 'shrimp'}  \n",
       "2       {'vegetarian', 'salad', 'side', 'dinner', 'veg...  \n",
       "3                       {'side', 'vegetarian', 'italian'}  \n",
       "4                                              {'dinner'}  \n",
       "...                                                   ...  \n",
       "494958                             {'breakfast', 'bread'}  \n",
       "494959                              {'dinner', 'chicken'}  \n",
       "494960      {'roast', 'dinner', 'low-sodium', 'low-carb'}  \n",
       "494961                                         {'dinner'}  \n",
       "494962              {'southern', 'pie', 'dinner', 'side'}  \n",
       "\n",
       "[494963 rows x 10 columns]"
      ]
     },
     "metadata": {},
     "output_type": "display_data"
    }
   ],
   "source": [
    "display(recipes)"
   ]
  },
  {
   "cell_type": "code",
   "execution_count": 6,
   "metadata": {},
   "outputs": [
    {
     "name": "stdout",
     "output_type": "stream",
     "text": [
      "<class 'pandas.core.frame.DataFrame'>\n",
      "RangeIndex: 494963 entries, 0 to 494962\n",
      "Data columns (total 10 columns):\n",
      " #   Column               Non-Null Count   Dtype \n",
      "---  ------               --------------   ----- \n",
      " 0   id                   494963 non-null  int64 \n",
      " 1   name                 494963 non-null  object\n",
      " 2   description          485365 non-null  object\n",
      " 3   ingredients          494963 non-null  object\n",
      " 4   ingredients_raw_str  494963 non-null  object\n",
      " 5   serving_size         494963 non-null  object\n",
      " 6   servings             494963 non-null  int64 \n",
      " 7   steps                494963 non-null  object\n",
      " 8   tags                 494963 non-null  object\n",
      " 9   search_terms         494963 non-null  object\n",
      "dtypes: int64(2), object(8)\n",
      "memory usage: 37.8+ MB\n"
     ]
    }
   ],
   "source": [
    "recipes.info()"
   ]
  },
  {
   "cell_type": "code",
   "execution_count": 7,
   "metadata": {},
   "outputs": [
    {
     "data": {
      "text/plain": [
       "Index(['id', 'name', 'description', 'ingredients', 'ingredients_raw_str',\n",
       "       'serving_size', 'servings', 'steps', 'tags', 'search_terms'],\n",
       "      dtype='object')"
      ]
     },
     "execution_count": 7,
     "metadata": {},
     "output_type": "execute_result"
    }
   ],
   "source": [
    "recipes.columns"
   ]
  },
  {
   "cell_type": "code",
   "execution_count": 8,
   "metadata": {},
   "outputs": [
    {
     "data": {
      "text/plain": [
       "0                      Grilled Garlic Cheese Grits\n",
       "1            Simple Shrimp and Andouille Jambalaya\n",
       "2                       black-and-white bean salad\n",
       "3                       Crock Pot Italian Zucchini\n",
       "4                    Beef Stew With Dried Cherries\n",
       "                            ...                   \n",
       "494958                    Blackberry Orange Scones\n",
       "494959    Slow Cooker Garlic Chicken With Rosemary\n",
       "494960             Pot Roast with Port (Stove Top)\n",
       "494961            Kapusta ( Cabbage and Kielbasa )\n",
       "494962               Yellow or Zucchini Squash Pie\n",
       "Name: name, Length: 494963, dtype: object"
      ]
     },
     "execution_count": 8,
     "metadata": {},
     "output_type": "execute_result"
    }
   ],
   "source": [
    "recipes[\"name\"]"
   ]
  },
  {
   "cell_type": "code",
   "execution_count": 7,
   "metadata": {},
   "outputs": [
    {
     "data": {
      "text/plain": [
       "0         ['water', 'grits', 'salt', 'cheddar cheese', '...\n",
       "1         ['onion', 'red bell pepper', 'garlic cloves', ...\n",
       "2         ['white beans', 'canned black beans', 'tomatoe...\n",
       "3         ['zucchini', 'yellow squash', 'diced tomatoes'...\n",
       "4         ['beef stew meat', 'flour', 'salt', 'allspice'...\n",
       "                                ...                        \n",
       "494958    ['unbleached flour', 'baking soda', 'butter', ...\n",
       "494959    ['roasting chickens', 'lemons', 'rosemary spri...\n",
       "494960    ['boneless beef chuck roast', 'olive oil', 'ta...\n",
       "494961    ['cabbage', 'condensed tomato soup', 'kielbasa...\n",
       "494962    ['zucchini', 'onion', 'butter', 'oregano', 'ba...\n",
       "Name: ingredients, Length: 494963, dtype: object"
      ]
     },
     "execution_count": 7,
     "metadata": {},
     "output_type": "execute_result"
    }
   ],
   "source": [
    "recipes[\"ingredients\"]"
   ]
  },
  {
   "cell_type": "code",
   "execution_count": 6,
   "metadata": {},
   "outputs": [
    {
     "data": {
      "text/plain": [
       "0         [\"4   cups    water\",\"1   cup   uncooked old f...\n",
       "1         [\"1   medium    onion, chopped coarse \",\"1   m...\n",
       "2         [\"1   cup   canned white beans, rinsed and dra...\n",
       "3         [\"2       zucchini, sliced \",\"2   small    yel...\n",
       "4         [\"3   lbs    beef stew meat\",\"3   tablespoons ...\n",
       "                                ...                        \n",
       "494958    [\"2 1/2  cups    unbleached flour\",\"2   teaspo...\n",
       "494959    [\"1 (5   lb)    roasting chickens, rinsed and ...\n",
       "494960    [\"2 -3   lbs    boneless beef chuck roast\",\"2 ...\n",
       "494961    [\"8   cups    cabbage or 2   heads    cabbage,...\n",
       "494962    [\"4   cups    zucchini (can mix the squash if ...\n",
       "Name: ingredients_raw_str, Length: 494963, dtype: object"
      ]
     },
     "execution_count": 6,
     "metadata": {},
     "output_type": "execute_result"
    }
   ],
   "source": [
    "recipes[\"ingredients_raw_str\"]"
   ]
  },
  {
   "cell_type": "markdown",
   "metadata": {},
   "source": [
    "recipes[\"ingredients\"][x] gives a list of ingredients in recipe #x but returns the list as a long string\n",
    "\n",
    "need to convert it to a list"
   ]
  }
 ],
 "metadata": {
  "kernelspec": {
   "display_name": "Python 3.10.2 64-bit",
   "language": "python",
   "name": "python3"
  },
  "language_info": {
   "codemirror_mode": {
    "name": "ipython",
    "version": 3
   },
   "file_extension": ".py",
   "mimetype": "text/x-python",
   "name": "python",
   "nbconvert_exporter": "python",
   "pygments_lexer": "ipython3",
   "version": "3.10.2"
  },
  "orig_nbformat": 4,
  "vscode": {
   "interpreter": {
    "hash": "aee8b7b246df8f9039afb4144a1f6fd8d2ca17a180786b69acc140d282b71a49"
   }
  }
 },
 "nbformat": 4,
 "nbformat_minor": 2
}
