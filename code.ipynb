{
 "cells": [
  {
   "cell_type": "code",
   "execution_count": null,
   "metadata": {},
   "outputs": [],
   "source": [
    "import pandas as pd\n",
    "\n",
    "recipes = pd.read_csv(\"recipes_w_search_terms.csv\")"
   ]
  },
  {
   "cell_type": "code",
   "execution_count": 6,
   "metadata": {},
   "outputs": [
    {
     "name": "stdout",
     "output_type": "stream",
     "text": [
      "<class 'pandas.core.frame.DataFrame'>\n",
      "RangeIndex: 494963 entries, 0 to 494962\n",
      "Data columns (total 10 columns):\n",
      " #   Column               Non-Null Count   Dtype \n",
      "---  ------               --------------   ----- \n",
      " 0   id                   494963 non-null  int64 \n",
      " 1   name                 494963 non-null  object\n",
      " 2   description          485365 non-null  object\n",
      " 3   ingredients          494963 non-null  object\n",
      " 4   ingredients_raw_str  494963 non-null  object\n",
      " 5   serving_size         494963 non-null  object\n",
      " 6   servings             494963 non-null  int64 \n",
      " 7   steps                494963 non-null  object\n",
      " 8   tags                 494963 non-null  object\n",
      " 9   search_terms         494963 non-null  object\n",
      "dtypes: int64(2), object(8)\n",
      "memory usage: 37.8+ MB\n"
     ]
    }
   ],
   "source": [
    "recipes.info()"
   ]
  },
  {
   "cell_type": "code",
   "execution_count": 7,
   "metadata": {},
   "outputs": [
    {
     "data": {
      "text/plain": [
       "Index(['id', 'name', 'description', 'ingredients', 'ingredients_raw_str',\n",
       "       'serving_size', 'servings', 'steps', 'tags', 'search_terms'],\n",
       "      dtype='object')"
      ]
     },
     "execution_count": 7,
     "metadata": {},
     "output_type": "execute_result"
    }
   ],
   "source": [
    "recipes.columns"
   ]
  },
  {
   "cell_type": "code",
   "execution_count": 8,
   "metadata": {},
   "outputs": [
    {
     "data": {
      "text/plain": [
       "0    ['water', 'grits', 'salt', 'cheddar cheese', '...\n",
       "1    ['onion', 'red bell pepper', 'garlic cloves', ...\n",
       "2    ['white beans', 'canned black beans', 'tomatoe...\n",
       "3    ['zucchini', 'yellow squash', 'diced tomatoes'...\n",
       "4    ['beef stew meat', 'flour', 'salt', 'allspice'...\n",
       "5    ['slivered almonds', 'cider vinegar', 'sugar',...\n",
       "6    ['chicken breasts', 'green onion', 'red bell p...\n",
       "7    ['eggs', 'milk', 'fresh sage', 'fresh thyme', ...\n",
       "8    ['butter', 'onion', 'garlic', 'potatoes', 'flo...\n",
       "9    ['lean ground beef', 'ketchup', 'heinz chili s...\n",
       "Name: ingredients, dtype: object"
      ]
     },
     "execution_count": 8,
     "metadata": {},
     "output_type": "execute_result"
    }
   ],
   "source": [
    "recipes[\"ingredients\"][0:10]"
   ]
  },
  {
   "cell_type": "code",
   "execution_count": 26,
   "metadata": {},
   "outputs": [
    {
     "data": {
      "text/plain": [
       "\"['water', 'grits', 'salt', 'cheddar cheese', 'garlic', 'olive oil']\""
      ]
     },
     "execution_count": 26,
     "metadata": {},
     "output_type": "execute_result"
    }
   ],
   "source": [
    "recipes[\"ingredients\"][0]"
   ]
  },
  {
   "cell_type": "markdown",
   "metadata": {},
   "source": [
    "recipes[\"ingredients\"][x] gives a list of ingredients in recipe #x but returns the list as a long string\n",
    "\n",
    "need to convert it to a list"
   ]
  }
 ],
 "metadata": {
  "kernelspec": {
   "display_name": "Python 3.10.2 64-bit",
   "language": "python",
   "name": "python3"
  },
  "language_info": {
   "codemirror_mode": {
    "name": "ipython",
    "version": 3
   },
   "file_extension": ".py",
   "mimetype": "text/x-python",
   "name": "python",
   "nbconvert_exporter": "python",
   "pygments_lexer": "ipython3",
   "version": "3.10.2"
  },
  "orig_nbformat": 4,
  "vscode": {
   "interpreter": {
    "hash": "aee8b7b246df8f9039afb4144a1f6fd8d2ca17a180786b69acc140d282b71a49"
   }
  }
 },
 "nbformat": 4,
 "nbformat_minor": 2
}
